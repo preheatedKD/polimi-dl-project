{
 "cells": [
  {
   "cell_type": "code",
   "execution_count": 3,
   "metadata": {},
   "outputs": [
    {
     "name": "stderr",
     "output_type": "stream",
     "text": [
      "/home/y2p/anaconda3/lib/python3.6/site-packages/h5py/__init__.py:36: FutureWarning: Conversion of the second argument of issubdtype from `float` to `np.floating` is deprecated. In future, it will be treated as `np.float64 == np.dtype(float).type`.\n",
      "  from ._conv import register_converters as _register_converters\n"
     ]
    }
   ],
   "source": [
    "import argparse\n",
    "import numpy as np\n",
    "import tensorflow as tf\n",
    "import os\n",
    "from PIL import Image \n",
    "from utils.config import process_config\n",
    "from utils.dirs import create_dirs\n",
    "from utils.logger import Logger\n",
    "from utils.utils import get_args\n",
    "from models.mini_model import MiniModel\n",
    "import matplotlib.pyplot as plt"
   ]
  },
  {
   "cell_type": "code",
   "execution_count": null,
   "metadata": {},
   "outputs": [],
   "source": [
    "def predict(input_path,config):\n",
    "\n",
    "\timg = Image.open(input_path)\n",
    "\t\n",
    "\theight = config.input_size[0]\n",
    "\twidth = config.input_size[1]\n",
    "\tchannels = config.input_size[2]\n",
    "\n",
    "\timg = img.resize((width, height), Image.ANTIALIAS)\n",
    "\timg = np.array(img)\n",
    "\t\n",
    "\tplt.imshow(np.asarray(img))\n",
    "\tplt.show(block=False)\n",
    "\t\n",
    "\timg = np.reshape(img,[1,width,height,3])\n",
    "\t\n",
    "\twith tf.Session() as sess:\n",
    "\n",
    "\t\tmodel = MiniModel(config)\n",
    "\t\tmodel.load(sess)\n",
    "\n",
    "\t\tpred = sess.run(model.output, feed_dict={model.x: img})\n",
    "\t\tpred = np.reshape(pred,[pred.shape[1],pred.shape[2]])\n",
    "\t\tplt.imshow(np.asarray(pred))\n",
    "\t\tplt.show(block=False)\n",
    "\treturn \tpred"
   ]
  },
  {
   "cell_type": "code",
   "execution_count": null,
   "metadata": {},
   "outputs": [
    {
     "data": {
      "image/png": "[encoded data removed]",
      "text/plain": [
       "<matplotlib.figure.Figure at 0x7fdebf059470>"
      ]
     },
     "metadata": {},
     "output_type": "display_data"
    },
    {
     "name": "stdout",
     "output_type": "stream",
     "text": [
      "Loading model checkpoint ../experiments/NYU/checkpoint/-1100 ...\n",
      "\n",
      "INFO:tensorflow:Restoring parameters from ../experiments/NYU/checkpoint/-1100\n",
      "Model loaded\n"
     ]
    },
    {
     "data": {
      "image/png": "[encoded data removed]",
      "text/plain": [
       "<matplotlib.figure.Figure at 0x7fded359ca20>"
      ]
     },
     "metadata": {},
     "output_type": "display_data"
    }
   ],
   "source": [
    "def main():\n",
    "\tconfig = process_config('./configs/NYUConfig.json')\n",
    "\tinput = './lena.jpeg'\n",
    "\tpred = predict(input,config)\n",
    "\tos._exit(0)\n",
    "\n",
    "if __name__ == '__main__':\n",
    "\tmain()"
   ]
  },
  {
   "cell_type": "code",
   "execution_count": null,
   "metadata": {},
   "outputs": [],
   "source": []
  }
 ],
 "metadata": {
  "kernelspec": {
   "display_name": "Python 3",
   "language": "python",
   "name": "python3"
  },
  "language_info": {
   "codemirror_mode": {
    "name": "ipython",
    "version": 3
   },
   "file_extension": ".py",
   "mimetype": "text/x-python",
   "name": "python",
   "nbconvert_exporter": "python",
   "pygments_lexer": "ipython3",
   "version": "3.6.4"
  }
 },
 "nbformat": 4,
 "nbformat_minor": 2
}
