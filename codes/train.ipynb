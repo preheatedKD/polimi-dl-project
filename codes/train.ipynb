{
 "cells": [
  {
   "cell_type": "code",
   "execution_count": 1,
   "metadata": {},
   "outputs": [],
   "source": [
    "import tensorflow as tf\n",
    "\n",
    "from data_loader.nyu_data_loader import NYUDataLoader\n",
    "\n",
    "from models.mini_model import MiniModel\n",
    "from trainers.depth_estimator_trainer import DepthTrainer\n",
    "from utils.config import process_config\n",
    "from utils.dirs import create_dirs\n",
    "from utils.logger import Logger\n",
    "from utils.utils import get_args"
   ]
  },
  {
   "cell_type": "code",
   "execution_count": 2,
   "metadata": {},
   "outputs": [],
   "source": [
    "\n",
    "def main():\n",
    "\t# capture the config path from the run arguments\n",
    "\t# then process the json configuration file\n",
    "\tconfig = process_config('./configs/NYUConfig.json')\n",
    "\t# create the experiments dirs\n",
    "\tcreate_dirs([config.summary_dir, config.checkpoint_dir])\n",
    "\t# create tensorflow session\n",
    "\tsess = tf.Session()\n",
    "\t# create an instance of the model you want\n",
    "\tmodel = MiniModel(config)\n",
    "\t#load model if exists\n",
    "\tmodel.load(sess)\n",
    "\t# create your data generator\n",
    "\tdata = NYUDataLoader(config)\n",
    "\n",
    "\t# create tensorboard logger\n",
    "\tlogger = Logger(sess, config)\n",
    "\t# create trainer and pass all the previous components to it\n",
    "\ttrainer = DepthTrainer(sess, model, data, config, logger)\n",
    "\t# here you train your model\n",
    "\ttrainer.train()"
   ]
  },
  {
   "cell_type": "code",
   "execution_count": 3,
   "metadata": {},
   "outputs": [
    {
     "name": "stdout",
     "output_type": "stream",
     "text": [
      "Loading model checkpoint ../experiments/NYU/checkpoint/-1100 ...\n",
      "\n",
      "INFO:tensorflow:Restoring parameters from ../experiments/NYU/checkpoint/-1100\n",
      "Model loaded\n",
      "Loading the data\n"
     ]
    },
    {
     "name": "stderr",
     "output_type": "stream",
     "text": [
      "100%|██████████| 100/100 [00:01<00:00, 57.71it/s]\n",
      "  7%|▋         | 7/100 [00:00<00:01, 67.91it/s]"
     ]
    },
    {
     "name": "stdout",
     "output_type": "stream",
     "text": [
      "Saving model...\n",
      "Model saved\n"
     ]
    },
    {
     "name": "stderr",
     "output_type": "stream",
     "text": [
      "100%|██████████| 100/100 [00:01<00:00, 69.64it/s]\n",
      "  7%|▋         | 7/100 [00:00<00:01, 65.96it/s]"
     ]
    },
    {
     "name": "stdout",
     "output_type": "stream",
     "text": [
      "Saving model...\n",
      "Model saved\n"
     ]
    },
    {
     "name": "stderr",
     "output_type": "stream",
     "text": [
      "100%|██████████| 100/100 [00:02<00:00, 49.88it/s]\n",
      "  7%|▋         | 7/100 [00:00<00:01, 68.47it/s]"
     ]
    },
    {
     "name": "stdout",
     "output_type": "stream",
     "text": [
      "Saving model...\n",
      "Model saved\n"
     ]
    },
    {
     "name": "stderr",
     "output_type": "stream",
     "text": [
      "100%|██████████| 100/100 [00:01<00:00, 65.42it/s]\n",
      "  7%|▋         | 7/100 [00:00<00:01, 64.13it/s]"
     ]
    },
    {
     "name": "stdout",
     "output_type": "stream",
     "text": [
      "Saving model...\n",
      "Model saved\n"
     ]
    },
    {
     "name": "stderr",
     "output_type": "stream",
     "text": [
      "100%|██████████| 100/100 [00:01<00:00, 60.01it/s]\n",
      "  7%|▋         | 7/100 [00:00<00:01, 69.19it/s]"
     ]
    },
    {
     "name": "stdout",
     "output_type": "stream",
     "text": [
      "Saving model...\n",
      "Model saved\n"
     ]
    },
    {
     "name": "stderr",
     "output_type": "stream",
     "text": [
      "100%|██████████| 100/100 [00:01<00:00, 66.89it/s]\n",
      "  7%|▋         | 7/100 [00:00<00:01, 69.76it/s]"
     ]
    },
    {
     "name": "stdout",
     "output_type": "stream",
     "text": [
      "Saving model...\n",
      "Model saved\n"
     ]
    },
    {
     "name": "stderr",
     "output_type": "stream",
     "text": [
      "100%|██████████| 100/100 [00:01<00:00, 66.51it/s]\n",
      "  7%|▋         | 7/100 [00:00<00:01, 67.20it/s]"
     ]
    },
    {
     "name": "stdout",
     "output_type": "stream",
     "text": [
      "Saving model...\n",
      "Model saved\n"
     ]
    },
    {
     "name": "stderr",
     "output_type": "stream",
     "text": [
      "100%|██████████| 100/100 [00:01<00:00, 59.62it/s]\n",
      "  7%|▋         | 7/100 [00:00<00:01, 65.99it/s]"
     ]
    },
    {
     "name": "stdout",
     "output_type": "stream",
     "text": [
      "Saving model...\n",
      "Model saved\n"
     ]
    },
    {
     "name": "stderr",
     "output_type": "stream",
     "text": [
      "100%|██████████| 100/100 [00:01<00:00, 66.19it/s]\n",
      "  5%|▌         | 5/100 [00:00<00:01, 48.06it/s]"
     ]
    },
    {
     "name": "stdout",
     "output_type": "stream",
     "text": [
      "Saving model...\n",
      "Model saved\n"
     ]
    },
    {
     "name": "stderr",
     "output_type": "stream",
     "text": [
      "100%|██████████| 100/100 [00:01<00:00, 50.39it/s]\n",
      "  6%|▌         | 6/100 [00:00<00:01, 55.32it/s]"
     ]
    },
    {
     "name": "stdout",
     "output_type": "stream",
     "text": [
      "Saving model...\n",
      "Model saved\n"
     ]
    },
    {
     "name": "stderr",
     "output_type": "stream",
     "text": [
      "100%|██████████| 100/100 [00:01<00:00, 67.83it/s]"
     ]
    },
    {
     "name": "stdout",
     "output_type": "stream",
     "text": [
      "Saving model...\n",
      "Model saved\n"
     ]
    },
    {
     "name": "stderr",
     "output_type": "stream",
     "text": [
      "\n"
     ]
    }
   ],
   "source": [
    "\n",
    "if __name__ == '__main__':\n",
    "\tmain()\n"
   ]
  },
  {
   "cell_type": "code",
   "execution_count": null,
   "metadata": {},
   "outputs": [],
   "source": []
  }
 ],
 "metadata": {
  "kernelspec": {
   "display_name": "Python 3",
   "language": "python",
   "name": "python3"
  },
  "language_info": {
   "codemirror_mode": {
    "name": "ipython",
    "version": 3
   },
   "file_extension": ".py",
   "mimetype": "text/x-python",
   "name": "python",
   "nbconvert_exporter": "python",
   "pygments_lexer": "ipython3",
   "version": "3.6.6"
  }
 },
 "nbformat": 4,
 "nbformat_minor": 2
}
